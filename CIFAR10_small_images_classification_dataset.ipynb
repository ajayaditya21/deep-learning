{
  "nbformat": 4,
  "nbformat_minor": 0,
  "metadata": {
    "colab": {
      "provenance": [],
      "authorship_tag": "ABX9TyOp8Jtn7MK9dzC9daeO3cOr",
      "include_colab_link": true
    },
    "kernelspec": {
      "name": "python3",
      "display_name": "Python 3"
    },
    "language_info": {
      "name": "python"
    }
  },
  "cells": [
    {
      "cell_type": "markdown",
      "metadata": {
        "id": "view-in-github",
        "colab_type": "text"
      },
      "source": [
        "<a href=\"https://colab.research.google.com/github/ajayaditya21/deep-learning/blob/main/CIFAR10_small_images_classification_dataset.ipynb\" target=\"_parent\"><img src=\"https://colab.research.google.com/assets/colab-badge.svg\" alt=\"Open In Colab\"/></a>"
      ]
    },
    {
      "cell_type": "code",
      "execution_count": 1,
      "metadata": {
        "id": "zP9dY0KIF_VB"
      },
      "outputs": [],
      "source": [
        "import tensorflow as tp\n",
        "from tensorflow import keras\n",
        "import numpy as np"
      ]
    },
    {
      "cell_type": "code",
      "source": [
        "(x_train,y_train),(x_test,y_test)=keras.datasets.cifar10.load_data()"
      ],
      "metadata": {
        "colab": {
          "base_uri": "https://localhost:8080/"
        },
        "id": "qrFvDIF2GWoa",
        "outputId": "6e63e5b6-90d9-4d1e-d306-f0122a723ce7"
      },
      "execution_count": 2,
      "outputs": [
        {
          "output_type": "stream",
          "name": "stdout",
          "text": [
            "Downloading data from https://www.cs.toronto.edu/~kriz/cifar-10-python.tar.gz\n",
            "\u001b[1m170498071/170498071\u001b[0m \u001b[32m━━━━━━━━━━━━━━━━━━━━\u001b[0m\u001b[37m\u001b[0m \u001b[1m2s\u001b[0m 0us/step\n"
          ]
        }
      ]
    },
    {
      "cell_type": "code",
      "source": [
        "x_train.shape"
      ],
      "metadata": {
        "colab": {
          "base_uri": "https://localhost:8080/"
        },
        "id": "SMCwOiXIGoN2",
        "outputId": "ccbc8e7b-4d40-46f0-c4e7-9d435251f7df"
      },
      "execution_count": 3,
      "outputs": [
        {
          "output_type": "execute_result",
          "data": {
            "text/plain": [
              "(50000, 32, 32, 3)"
            ]
          },
          "metadata": {},
          "execution_count": 3
        }
      ]
    },
    {
      "cell_type": "code",
      "source": [
        "y_train.shape"
      ],
      "metadata": {
        "colab": {
          "base_uri": "https://localhost:8080/"
        },
        "id": "xSlFACNwGthy",
        "outputId": "79ae9966-5021-403e-98b6-c0812e5fe278"
      },
      "execution_count": 4,
      "outputs": [
        {
          "output_type": "execute_result",
          "data": {
            "text/plain": [
              "(50000, 1)"
            ]
          },
          "metadata": {},
          "execution_count": 4
        }
      ]
    },
    {
      "cell_type": "code",
      "source": [
        "x_train[1][0]"
      ],
      "metadata": {
        "colab": {
          "base_uri": "https://localhost:8080/"
        },
        "id": "uM6NPLCLGzPZ",
        "outputId": "f0095e07-dac5-4527-db2b-e6fab7a8f8c7"
      },
      "execution_count": 21,
      "outputs": [
        {
          "output_type": "execute_result",
          "data": {
            "text/plain": [
              "array([[154, 177, 187],\n",
              "       [126, 137, 136],\n",
              "       [105, 104,  95],\n",
              "       [102, 101,  99],\n",
              "       [125, 131, 139],\n",
              "       [155, 166, 180],\n",
              "       [172, 190, 210],\n",
              "       [180, 199, 214],\n",
              "       [142, 156, 156],\n",
              "       [111, 120, 110],\n",
              "       [106, 107,  98],\n",
              "       [109, 104, 102],\n",
              "       [123, 121, 117],\n",
              "       [127, 129, 127],\n",
              "       [181, 188, 189],\n",
              "       [217, 226, 229],\n",
              "       [209, 211, 211],\n",
              "       [166, 167, 162],\n",
              "       [164, 165, 156],\n",
              "       [158, 160, 148],\n",
              "       [116, 117, 103],\n",
              "       [102, 101,  83],\n",
              "       [ 95,  95,  76],\n",
              "       [ 90,  89,  79],\n",
              "       [ 72,  70,  69],\n",
              "       [ 60,  60,  61],\n",
              "       [ 56,  57,  54],\n",
              "       [ 77,  78,  72],\n",
              "       [ 94,  96,  84],\n",
              "       [ 91,  95,  71],\n",
              "       [ 87,  90,  71],\n",
              "       [ 79,  81,  70]], dtype=uint8)"
            ]
          },
          "metadata": {},
          "execution_count": 21
        }
      ]
    },
    {
      "cell_type": "code",
      "source": [
        "import matplotlib.pyplot as plt"
      ],
      "metadata": {
        "id": "2ay7NWP6Hox1"
      },
      "execution_count": 11,
      "outputs": []
    },
    {
      "cell_type": "code",
      "source": [
        "def plot_sample(index):\n",
        "  plt.figure(figsize=(10,1))\n",
        "  plt.imshow(x_train[index])\n"
      ],
      "metadata": {
        "id": "xiiPRSR-HYyR"
      },
      "execution_count": 16,
      "outputs": []
    },
    {
      "cell_type": "code",
      "source": [
        "plot_sample(1)"
      ],
      "metadata": {
        "colab": {
          "base_uri": "https://localhost:8080/",
          "height": 142
        },
        "id": "XxTAgMZEIHIL",
        "outputId": "602f762d-9740-4119-f5f6-24415abdd1bf"
      },
      "execution_count": 17,
      "outputs": [
        {
          "output_type": "display_data",
          "data": {
            "text/plain": [
              "<Figure size 1000x100 with 1 Axes>"
            ],
            "image/png": "[encoded data removed]"
          },
          "metadata": {}
        }
      ]
    },
    {
      "cell_type": "code",
      "source": [
        "classes= [\"airplane\",\"automobile\",\"bird\",\"cat\",\"deer\",\"dog\",\"frog\",\"horse\",\"ship\",\"truck\"]"
      ],
      "metadata": {
        "id": "HF835Mk2Iuj4"
      },
      "execution_count": 18,
      "outputs": []
    },
    {
      "cell_type": "code",
      "source": [
        "classes[y_train[1][0]]"
      ],
      "metadata": {
        "colab": {
          "base_uri": "https://localhost:8080/",
          "height": 37
        },
        "id": "J8oR5sSuJAjc",
        "outputId": "6431673d-2860-46ce-a46a-490a1071deb5"
      },
      "execution_count": 20,
      "outputs": [
        {
          "output_type": "execute_result",
          "data": {
            "text/plain": [
              "'truck'"
            ],
            "application/vnd.google.colaboratory.intrinsic+json": {
              "type": "string"
            }
          },
          "metadata": {},
          "execution_count": 20
        }
      ]
    },
    {
      "cell_type": "code",
      "source": [
        "plot_sample(100)"
      ],
      "metadata": {
        "colab": {
          "base_uri": "https://localhost:8080/",
          "height": 142
        },
        "id": "DURlc_ejJaW9",
        "outputId": "4c069ecd-c7d5-4ff1-eb89-5d5bf7af9c96"
      },
      "execution_count": 25,
      "outputs": [
        {
          "output_type": "display_data",
          "data": {
            "text/plain": [
              "<Figure size 1000x100 with 1 Axes>"
            ],
            "image/png": "[encoded data removed]"
          },
          "metadata": {}
        }
      ]
    },
    {
      "cell_type": "code",
      "source": [
        "classes[y_train[100][0]]"
      ],
      "metadata": {
        "colab": {
          "base_uri": "https://localhost:8080/",
          "height": 37
        },
        "id": "Y-dC8ByJJjVT",
        "outputId": "9a0095f9-a026-4e48-948d-68b22865b601"
      },
      "execution_count": 28,
      "outputs": [
        {
          "output_type": "execute_result",
          "data": {
            "text/plain": [
              "'ship'"
            ],
            "application/vnd.google.colaboratory.intrinsic+json": {
              "type": "string"
            }
          },
          "metadata": {},
          "execution_count": 28
        }
      ]
    },
    {
      "cell_type": "code",
      "source": [
        "x_trian_scaled=x_train/255\n",
        "x_test_scaled=x_test/255"
      ],
      "metadata": {
        "id": "fiKlr4skKrKe"
      },
      "execution_count": 29,
      "outputs": []
    },
    {
      "cell_type": "code",
      "source": [
        "x_trian_scaled[1][0]"
      ],
      "metadata": {
        "colab": {
          "base_uri": "https://localhost:8080/"
        },
        "id": "VvL1_ZAoK6hx",
        "outputId": "455e2d6e-4f71-4074-a62a-86964b093833"
      },
      "execution_count": 30,
      "outputs": [
        {
          "output_type": "execute_result",
          "data": {
            "text/plain": [
              "array([[0.60392157, 0.69411765, 0.73333333],\n",
              "       [0.49411765, 0.5372549 , 0.53333333],\n",
              "       [0.41176471, 0.40784314, 0.37254902],\n",
              "       [0.4       , 0.39607843, 0.38823529],\n",
              "       [0.49019608, 0.51372549, 0.54509804],\n",
              "       [0.60784314, 0.65098039, 0.70588235],\n",
              "       [0.6745098 , 0.74509804, 0.82352941],\n",
              "       [0.70588235, 0.78039216, 0.83921569],\n",
              "       [0.55686275, 0.61176471, 0.61176471],\n",
              "       [0.43529412, 0.47058824, 0.43137255],\n",
              "       [0.41568627, 0.41960784, 0.38431373],\n",
              "       [0.42745098, 0.40784314, 0.4       ],\n",
              "       [0.48235294, 0.4745098 , 0.45882353],\n",
              "       [0.49803922, 0.50588235, 0.49803922],\n",
              "       [0.70980392, 0.7372549 , 0.74117647],\n",
              "       [0.85098039, 0.88627451, 0.89803922],\n",
              "       [0.81960784, 0.82745098, 0.82745098],\n",
              "       [0.65098039, 0.65490196, 0.63529412],\n",
              "       [0.64313725, 0.64705882, 0.61176471],\n",
              "       [0.61960784, 0.62745098, 0.58039216],\n",
              "       [0.45490196, 0.45882353, 0.40392157],\n",
              "       [0.4       , 0.39607843, 0.3254902 ],\n",
              "       [0.37254902, 0.37254902, 0.29803922],\n",
              "       [0.35294118, 0.34901961, 0.30980392],\n",
              "       [0.28235294, 0.2745098 , 0.27058824],\n",
              "       [0.23529412, 0.23529412, 0.23921569],\n",
              "       [0.21960784, 0.22352941, 0.21176471],\n",
              "       [0.30196078, 0.30588235, 0.28235294],\n",
              "       [0.36862745, 0.37647059, 0.32941176],\n",
              "       [0.35686275, 0.37254902, 0.27843137],\n",
              "       [0.34117647, 0.35294118, 0.27843137],\n",
              "       [0.30980392, 0.31764706, 0.2745098 ]])"
            ]
          },
          "metadata": {},
          "execution_count": 30
        }
      ]
    },
    {
      "cell_type": "code",
      "source": [
        "y_train_categorical = keras.utils.to_categorical(\n",
        "    y_train, num_classes=10\n",
        ")\n",
        "y_test_categorical = keras.utils.to_categorical(\n",
        "    y_test, num_classes=10\n",
        ")"
      ],
      "metadata": {
        "id": "4qLtx_8iNW3k"
      },
      "execution_count": 36,
      "outputs": []
    },
    {
      "cell_type": "code",
      "source": [
        "y_train_categorical=y_train_categorical.astype('float32')\n",
        "y_test_categorical=y_test_categorical.astype('float32')"
      ],
      "metadata": {
        "id": "U3pL5j4ZNz_U"
      },
      "execution_count": 37,
      "outputs": []
    },
    {
      "cell_type": "code",
      "source": [
        "y_train[0:5]"
      ],
      "metadata": {
        "colab": {
          "base_uri": "https://localhost:8080/"
        },
        "id": "o35qz0xWOt6c",
        "outputId": "3e59badf-ac05-41b4-cbcc-af487f42b09f"
      },
      "execution_count": 40,
      "outputs": [
        {
          "output_type": "execute_result",
          "data": {
            "text/plain": [
              "array([[6],\n",
              "       [9],\n",
              "       [9],\n",
              "       [4],\n",
              "       [1]], dtype=uint8)"
            ]
          },
          "metadata": {},
          "execution_count": 40
        }
      ]
    },
    {
      "cell_type": "code",
      "source": [
        "y_train_categorical[0:5]"
      ],
      "metadata": {
        "colab": {
          "base_uri": "https://localhost:8080/"
        },
        "id": "zQBz5_cVOKP4",
        "outputId": "54f9a0d3-f082-443f-9c4b-de4303cff90a"
      },
      "execution_count": 38,
      "outputs": [
        {
          "output_type": "execute_result",
          "data": {
            "text/plain": [
              "array([[0., 0., 0., 0., 0., 0., 1., 0., 0., 0.],\n",
              "       [0., 0., 0., 0., 0., 0., 0., 0., 0., 1.],\n",
              "       [0., 0., 0., 0., 0., 0., 0., 0., 0., 1.],\n",
              "       [0., 0., 0., 0., 1., 0., 0., 0., 0., 0.],\n",
              "       [0., 1., 0., 0., 0., 0., 0., 0., 0., 0.]], dtype=float32)"
            ]
          },
          "metadata": {},
          "execution_count": 38
        }
      ]
    },
    {
      "cell_type": "code",
      "source": [],
      "metadata": {
        "id": "cJLzlhW2O4_z"
      },
      "execution_count": null,
      "outputs": []
    },
    {
      "cell_type": "code",
      "source": [
        "model= keras.Sequential([keras.layers.Flatten(input_shape=(32,32,3)),\n",
        "                         keras.layers.Dense(3000,activation='relu'),\n",
        "                         keras.layers.Dense(1000,activation='relu'),\n",
        "                         keras.layers.Dense(10,activation='sigmoid')])\n",
        "\n",
        "model.compile(optimizer='SGD',loss='categorical_crossentropy',metrics=['accuracy'])\n",
        "\n",
        "model.fit(x_trian_scaled,y_train_categorical,epochs=5)\n",
        "\n"
      ],
      "metadata": {
        "colab": {
          "base_uri": "https://localhost:8080/"
        },
        "id": "rxZWYbGmOYpU",
        "outputId": "c059e380-8867-4280-e933-413c132a5375"
      },
      "execution_count": 42,
      "outputs": [
        {
          "output_type": "stream",
          "name": "stderr",
          "text": [
            "/usr/local/lib/python3.10/dist-packages/keras/src/layers/reshaping/flatten.py:37: UserWarning: Do not pass an `input_shape`/`input_dim` argument to a layer. When using Sequential models, prefer using an `Input(shape)` object as the first layer in the model instead.\n",
            "  super().__init__(**kwargs)\n"
          ]
        },
        {
          "output_type": "stream",
          "name": "stdout",
          "text": [
            "Epoch 1/5\n",
            "\u001b[1m1563/1563\u001b[0m \u001b[32m━━━━━━━━━━━━━━━━━━━━\u001b[0m\u001b[37m\u001b[0m \u001b[1m171s\u001b[0m 109ms/step - accuracy: 0.3071 - loss: 1.9232\n",
            "Epoch 2/5\n",
            "\u001b[1m1563/1563\u001b[0m \u001b[32m━━━━━━━━━━━━━━━━━━━━\u001b[0m\u001b[37m\u001b[0m \u001b[1m197s\u001b[0m 106ms/step - accuracy: 0.4243 - loss: 1.6452\n",
            "Epoch 3/5\n",
            "\u001b[1m1563/1563\u001b[0m \u001b[32m━━━━━━━━━━━━━━━━━━━━\u001b[0m\u001b[37m\u001b[0m \u001b[1m190s\u001b[0m 98ms/step - accuracy: 0.4561 - loss: 1.5492\n",
            "Epoch 4/5\n",
            "\u001b[1m1563/1563\u001b[0m \u001b[32m━━━━━━━━━━━━━━━━━━━━\u001b[0m\u001b[37m\u001b[0m \u001b[1m218s\u001b[0m 109ms/step - accuracy: 0.4696 - loss: 1.4958\n",
            "Epoch 5/5\n",
            "\u001b[1m1563/1563\u001b[0m \u001b[32m━━━━━━━━━━━━━━━━━━━━\u001b[0m\u001b[37m\u001b[0m \u001b[1m200s\u001b[0m 107ms/step - accuracy: 0.4939 - loss: 1.4451\n"
          ]
        },
        {
          "output_type": "execute_result",
          "data": {
            "text/plain": [
              "<keras.src.callbacks.history.History at 0x7b164dac3fd0>"
            ]
          },
          "metadata": {},
          "execution_count": 42
        }
      ]
    },
    {
      "cell_type": "code",
      "source": [
        "np.argmax(model.predict(x_test_scaled)[0])"
      ],
      "metadata": {
        "colab": {
          "base_uri": "https://localhost:8080/"
        },
        "id": "4Ona3V3iSPdz",
        "outputId": "a6eb5c68-7690-4a96-cda1-233f8e1fbcce"
      },
      "execution_count": 46,
      "outputs": [
        {
          "output_type": "stream",
          "name": "stdout",
          "text": [
            "\u001b[1m313/313\u001b[0m \u001b[32m━━━━━━━━━━━━━━━━━━━━\u001b[0m\u001b[37m\u001b[0m \u001b[1m11s\u001b[0m 34ms/step\n"
          ]
        },
        {
          "output_type": "execute_result",
          "data": {
            "text/plain": [
              "3"
            ]
          },
          "metadata": {},
          "execution_count": 46
        }
      ]
    },
    {
      "cell_type": "code",
      "source": [
        "y_test[0]"
      ],
      "metadata": {
        "colab": {
          "base_uri": "https://localhost:8080/"
        },
        "id": "MxomkkzAXYNB",
        "outputId": "16409a0e-8fc4-4e02-addb-e51c2d04f38b"
      },
      "execution_count": 47,
      "outputs": [
        {
          "output_type": "execute_result",
          "data": {
            "text/plain": [
              "array([3], dtype=uint8)"
            ]
          },
          "metadata": {},
          "execution_count": 47
        }
      ]
    }
  ]
}